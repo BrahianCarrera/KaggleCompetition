{
  "nbformat": 4,
  "nbformat_minor": 0,
  "metadata": {
    "colab": {
      "provenance": [],
      "authorship_tag": "ABX9TyNFfrbgUFt+wPloJqskx6n9",
      "include_colab_link": true
    },
    "kernelspec": {
      "name": "python3",
      "display_name": "Python 3"
    },
    "language_info": {
      "name": "python"
    }
  },
  "cells": [
    {
      "cell_type": "markdown",
      "metadata": {
        "id": "view-in-github",
        "colab_type": "text"
      },
      "source": [
        "<a href=\"https://colab.research.google.com/github/BrahianCarrera/KaggleCompetition/blob/main/04%20-%20modelo%20con%20preprocesado%20por%20moda%20y%20red%20neuronal.ipynb\" target=\"_parent\"><img src=\"https://colab.research.google.com/assets/colab-badge.svg\" alt=\"Open In Colab\"/></a>"
      ]
    },
    {
      "cell_type": "code",
      "execution_count": 1,
      "metadata": {
        "colab": {
          "base_uri": "https://localhost:8080/",
          "height": 194
        },
        "id": "Wo4rtcUxaIuN",
        "outputId": "ad9ee1d5-10be-411c-e5cf-8c5af5f9cdaa"
      },
      "outputs": [
        {
          "output_type": "display_data",
          "data": {
            "text/plain": [
              "<IPython.core.display.HTML object>"
            ],
            "text/html": [
              "\n",
              "     <input type=\"file\" id=\"files-3200f6d8-80aa-4382-841a-f76a6a8cb04a\" name=\"files[]\" multiple disabled\n",
              "        style=\"border:none\" />\n",
              "     <output id=\"result-3200f6d8-80aa-4382-841a-f76a6a8cb04a\">\n",
              "      Upload widget is only available when the cell has been executed in the\n",
              "      current browser session. Please rerun this cell to enable.\n",
              "      </output>\n",
              "      <script>// Copyright 2017 Google LLC\n",
              "//\n",
              "// Licensed under the Apache License, Version 2.0 (the \"License\");\n",
              "// you may not use this file except in compliance with the License.\n",
              "// You may obtain a copy of the License at\n",
              "//\n",
              "//      http://www.apache.org/licenses/LICENSE-2.0\n",
              "//\n",
              "// Unless required by applicable law or agreed to in writing, software\n",
              "// distributed under the License is distributed on an \"AS IS\" BASIS,\n",
              "// WITHOUT WARRANTIES OR CONDITIONS OF ANY KIND, either express or implied.\n",
              "// See the License for the specific language governing permissions and\n",
              "// limitations under the License.\n",
              "\n",
              "/**\n",
              " * @fileoverview Helpers for google.colab Python module.\n",
              " */\n",
              "(function(scope) {\n",
              "function span(text, styleAttributes = {}) {\n",
              "  const element = document.createElement('span');\n",
              "  element.textContent = text;\n",
              "  for (const key of Object.keys(styleAttributes)) {\n",
              "    element.style[key] = styleAttributes[key];\n",
              "  }\n",
              "  return element;\n",
              "}\n",
              "\n",
              "// Max number of bytes which will be uploaded at a time.\n",
              "const MAX_PAYLOAD_SIZE = 100 * 1024;\n",
              "\n",
              "function _uploadFiles(inputId, outputId) {\n",
              "  const steps = uploadFilesStep(inputId, outputId);\n",
              "  const outputElement = document.getElementById(outputId);\n",
              "  // Cache steps on the outputElement to make it available for the next call\n",
              "  // to uploadFilesContinue from Python.\n",
              "  outputElement.steps = steps;\n",
              "\n",
              "  return _uploadFilesContinue(outputId);\n",
              "}\n",
              "\n",
              "// This is roughly an async generator (not supported in the browser yet),\n",
              "// where there are multiple asynchronous steps and the Python side is going\n",
              "// to poll for completion of each step.\n",
              "// This uses a Promise to block the python side on completion of each step,\n",
              "// then passes the result of the previous step as the input to the next step.\n",
              "function _uploadFilesContinue(outputId) {\n",
              "  const outputElement = document.getElementById(outputId);\n",
              "  const steps = outputElement.steps;\n",
              "\n",
              "  const next = steps.next(outputElement.lastPromiseValue);\n",
              "  return Promise.resolve(next.value.promise).then((value) => {\n",
              "    // Cache the last promise value to make it available to the next\n",
              "    // step of the generator.\n",
              "    outputElement.lastPromiseValue = value;\n",
              "    return next.value.response;\n",
              "  });\n",
              "}\n",
              "\n",
              "/**\n",
              " * Generator function which is called between each async step of the upload\n",
              " * process.\n",
              " * @param {string} inputId Element ID of the input file picker element.\n",
              " * @param {string} outputId Element ID of the output display.\n",
              " * @return {!Iterable<!Object>} Iterable of next steps.\n",
              " */\n",
              "function* uploadFilesStep(inputId, outputId) {\n",
              "  const inputElement = document.getElementById(inputId);\n",
              "  inputElement.disabled = false;\n",
              "\n",
              "  const outputElement = document.getElementById(outputId);\n",
              "  outputElement.innerHTML = '';\n",
              "\n",
              "  const pickedPromise = new Promise((resolve) => {\n",
              "    inputElement.addEventListener('change', (e) => {\n",
              "      resolve(e.target.files);\n",
              "    });\n",
              "  });\n",
              "\n",
              "  const cancel = document.createElement('button');\n",
              "  inputElement.parentElement.appendChild(cancel);\n",
              "  cancel.textContent = 'Cancel upload';\n",
              "  const cancelPromise = new Promise((resolve) => {\n",
              "    cancel.onclick = () => {\n",
              "      resolve(null);\n",
              "    };\n",
              "  });\n",
              "\n",
              "  // Wait for the user to pick the files.\n",
              "  const files = yield {\n",
              "    promise: Promise.race([pickedPromise, cancelPromise]),\n",
              "    response: {\n",
              "      action: 'starting',\n",
              "    }\n",
              "  };\n",
              "\n",
              "  cancel.remove();\n",
              "\n",
              "  // Disable the input element since further picks are not allowed.\n",
              "  inputElement.disabled = true;\n",
              "\n",
              "  if (!files) {\n",
              "    return {\n",
              "      response: {\n",
              "        action: 'complete',\n",
              "      }\n",
              "    };\n",
              "  }\n",
              "\n",
              "  for (const file of files) {\n",
              "    const li = document.createElement('li');\n",
              "    li.append(span(file.name, {fontWeight: 'bold'}));\n",
              "    li.append(span(\n",
              "        `(${file.type || 'n/a'}) - ${file.size} bytes, ` +\n",
              "        `last modified: ${\n",
              "            file.lastModifiedDate ? file.lastModifiedDate.toLocaleDateString() :\n",
              "                                    'n/a'} - `));\n",
              "    const percent = span('0% done');\n",
              "    li.appendChild(percent);\n",
              "\n",
              "    outputElement.appendChild(li);\n",
              "\n",
              "    const fileDataPromise = new Promise((resolve) => {\n",
              "      const reader = new FileReader();\n",
              "      reader.onload = (e) => {\n",
              "        resolve(e.target.result);\n",
              "      };\n",
              "      reader.readAsArrayBuffer(file);\n",
              "    });\n",
              "    // Wait for the data to be ready.\n",
              "    let fileData = yield {\n",
              "      promise: fileDataPromise,\n",
              "      response: {\n",
              "        action: 'continue',\n",
              "      }\n",
              "    };\n",
              "\n",
              "    // Use a chunked sending to avoid message size limits. See b/62115660.\n",
              "    let position = 0;\n",
              "    do {\n",
              "      const length = Math.min(fileData.byteLength - position, MAX_PAYLOAD_SIZE);\n",
              "      const chunk = new Uint8Array(fileData, position, length);\n",
              "      position += length;\n",
              "\n",
              "      const base64 = btoa(String.fromCharCode.apply(null, chunk));\n",
              "      yield {\n",
              "        response: {\n",
              "          action: 'append',\n",
              "          file: file.name,\n",
              "          data: base64,\n",
              "        },\n",
              "      };\n",
              "\n",
              "      let percentDone = fileData.byteLength === 0 ?\n",
              "          100 :\n",
              "          Math.round((position / fileData.byteLength) * 100);\n",
              "      percent.textContent = `${percentDone}% done`;\n",
              "\n",
              "    } while (position < fileData.byteLength);\n",
              "  }\n",
              "\n",
              "  // All done.\n",
              "  yield {\n",
              "    response: {\n",
              "      action: 'complete',\n",
              "    }\n",
              "  };\n",
              "}\n",
              "\n",
              "scope.google = scope.google || {};\n",
              "scope.google.colab = scope.google.colab || {};\n",
              "scope.google.colab._files = {\n",
              "  _uploadFiles,\n",
              "  _uploadFilesContinue,\n",
              "};\n",
              "})(self);\n",
              "</script> "
            ]
          },
          "metadata": {}
        },
        {
          "output_type": "stream",
          "name": "stdout",
          "text": [
            "Saving kaggle.json to kaggle.json\n",
            "Downloading udea-ai4eng-20241.zip to /content\n",
            " 52% 11.0M/21.2M [00:00<00:00, 114MB/s]\n",
            "100% 21.2M/21.2M [00:00<00:00, 169MB/s]\n",
            "Archive:  udea-ai4eng-20241.zip\n",
            "  inflating: submission_example.csv  \n",
            "  inflating: test.csv                \n",
            "  inflating: train.csv               \n"
          ]
        }
      ],
      "source": [
        "from google.colab import files\n",
        "# Carga el archivo kaggle.json\n",
        "files.upload()\n",
        "\n",
        "!mkdir -p ~/.kaggle\n",
        "!cp kaggle.json ~/.kaggle/\n",
        "!chmod 600 ~/.kaggle/kaggle.json\n",
        "! python -m pip install -qq kaggle\n",
        "!kaggle competitions download -c udea-ai4eng-20241\n",
        "!unzip udea-ai4eng-20241.zip"
      ]
    },
    {
      "cell_type": "code",
      "source": [
        "import pandas as pd\n",
        "import numpy as np\n",
        "import re\n",
        "import tensorflow as tf\n",
        "%matplotlib inline\n",
        "from sklearn.preprocessing import OneHotEncoder\n",
        "from sklearn.model_selection import train_test_split\n",
        "from sklearn.metrics import accuracy_score\n",
        "from sklearn.preprocessing import LabelEncoder\n",
        "from keras.models import Sequential\n",
        "from keras.layers import Dense, Dropout\n"
      ],
      "metadata": {
        "id": "OKqs1AEmaODP"
      },
      "execution_count": 2,
      "outputs": []
    },
    {
      "cell_type": "code",
      "source": [
        "test_df = pd.read_csv('/content/test.csv', encoding= 'utf-8')\n",
        "df = pd.read_csv('/content/train.csv', encoding= 'utf-8')"
      ],
      "metadata": {
        "id": "E0v87k1yYjFE"
      },
      "execution_count": 3,
      "outputs": []
    },
    {
      "cell_type": "code",
      "source": [
        "df"
      ],
      "metadata": {
        "id": "6KrgCFQRVoz6"
      },
      "execution_count": null,
      "outputs": []
    },
    {
      "cell_type": "code",
      "source": [
        "category_cols = [i for i in df.columns if not i in df._get_numeric_data()]\n",
        "for c in category_cols:\n",
        "    print (\"%10s\"%c, np.unique(df[c].dropna()))"
      ],
      "metadata": {
        "id": "d8PfOwChWWyV"
      },
      "execution_count": null,
      "outputs": []
    },
    {
      "cell_type": "code",
      "source": [
        "def Preprocesar(df):\n",
        "  def obtener_primera_frase(cadena):\n",
        "    return cadena.split(' ', 1)[0]\n",
        "\n",
        "  def quitar_tildes(palabra):\n",
        "    return re.sub(r'[ÁÉÍÓÚ]', lambda x: {'Á': 'A', 'É': 'E', 'Í': 'I', 'Ó': 'O', 'Ú': 'U'}[x.group()], palabra)\n",
        "\n",
        "  df['ESTU_PRGM_ACADEMICO'] = df['ESTU_PRGM_ACADEMICO'].apply(obtener_primera_frase)\n",
        "  df['ESTU_PRGM_ACADEMICO'] = df['ESTU_PRGM_ACADEMICO'].apply(quitar_tildes)\n",
        "\n",
        "  reemplazos = {\n",
        "      'ADMINISTRACION': ['ADMINISTRACION', 'ADMINISTRACI¿N', 'ADMINISTRACIÒN', 'ADMINISTRACIÓN', 'ADMINSITRACION', 'ADMINSITRACIÓN'],\n",
        "      'ANTROPOLOGIA': ['ANTROPOLOGIA', 'ANTROPOLOGÍA'],\n",
        "      'ARTES': ['ARTE', 'ARTES','BELLAS','ANIMACION'],\n",
        "      'BIOINGENIERIA': ['BIOINGENIERIA', 'BIOINGENIERÍA'],\n",
        "      'BIOLOGIA': ['BIOLOGIA', 'BIOLOGÍA'],\n",
        "      'COMUNICACION': ['COMUNICACION', 'COMUNICACIONES', 'COMUNICACI¿N', 'COMUNICACIÓN', 'COMUNICACIÖN'],\n",
        "      'CONSTRUCCION': ['CONSTRUCCION', 'CONSTRUCCIONES'],\n",
        "      'CONTADURIA': ['CONTADURIA', 'CONTADURÍA'],\n",
        "      'DISEÑO': ['DISENO', 'DISE¿O', 'DISE¿¿O', 'DISEÑO'],\n",
        "      'ECOLOGIA': ['ECOLOGIA', 'ECOLOGÍA'],\n",
        "      'ECONOMIA': ['ECONOM¿A'],\n",
        "      'GEOLOGIA': ['GEOLOG¿A'],\n",
        "      'GERENCIA': ['GERONTOLOGIA'],\n",
        "      'INGENIERIA': ['INGENIER¿A', 'INGENIERÌA', 'INGENIIERIA','AGROINDUSTRIA'],\n",
        "      'INSTRUMENTACION': ['INTRUMENTACION'],\n",
        "      'MATEMATICAS': ['MATEMATICA'],\n",
        "      'MARKETING': ['MERCADEO', 'MERCADOLOGIA'],\n",
        "      'PSICOLOGIA': ['PSICOLOGA'],\n",
        "      'QUIMICA': ['QUIMICA.', 'QU¿MICA'],\n",
        "      'MUSICA': ['MUSICA-'],\n",
        "      'TERAPIAS': ['TERAPIA', 'TERAPIAS'],\n",
        "      'GESTION': ['GESTI¿N'],\n",
        "      'NEGOCIOS' : ['3°'],\n",
        "      'DEPORTE' : ['ACTIVIDAD'],\n",
        "      'LICENCIATURA' : ['Licenciatura','LICENC.EN'],\n",
        "      'LENGUAS' :['LENGUAJES']\n",
        "\n",
        "  }\n",
        "\n",
        "  for key, values in reemplazos.items():\n",
        "      df['ESTU_PRGM_ACADEMICO'] = df['ESTU_PRGM_ACADEMICO'].replace(values, key)\n",
        "\n",
        "  ##Eliminar columnas\n",
        "\n",
        "  df = df.drop(labels =['ESTU_PRIVADO_LIBERTAD','FAMI_TIENEINTERNET.1'],axis= 1)\n",
        "\n",
        "  if 'RENDIMIENTO_GLOBAL' in df.columns:\n",
        "    df.columns = ['ID','PERIODO','PROGRAMA','DEPARTAMENTO','VALOR_MATRICULA','HORAS_TRABAJA','ESTRATO','TIENE_INTERNET','EDUCACION_PADRE','TIENE_LAVADORA','TIENE_AUTO','PAGA_MATRICULA','TIENE_COMPUTADOR','EDUCACION_MADRE','RENDIMIENTO_GLOBAL']\n",
        "  else:\n",
        "    df.columns = ['ID','PERIODO','PROGRAMA','DEPARTAMENTO','VALOR_MATRICULA','HORAS_TRABAJA','ESTRATO','TIENE_INTERNET','EDUCACION_PADRE','TIENE_LAVADORA','TIENE_AUTO','PAGA_MATRICULA','TIENE_COMPUTADOR','EDUCACION_MADRE']\n",
        "\n",
        "  ##Convertir a binario\n",
        "\n",
        "  def convertir_num(valor):\n",
        "      if valor == 'Si':\n",
        "          return 1\n",
        "      elif valor == 'No':\n",
        "          return 0\n",
        "      else:\n",
        "          return valor\n",
        "\n",
        "  # Aplicar la función a todas las columnas del DataFrame\n",
        "  df = df.applymap(convertir_num)\n",
        "\n",
        "  ##Imputar Datos\n",
        "\n",
        "  df['ESTRATO'] = df['ESTRATO'].str.replace('Estrato ', '')\n",
        "\n",
        "  columnas_binarias = ['TIENE_INTERNET', 'TIENE_LAVADORA', 'TIENE_AUTO',\n",
        "                        'PAGA_MATRICULA', 'TIENE_COMPUTADOR']\n",
        "\n",
        "  for columna in columnas_binarias:\n",
        "      moda = df[columna].mode()[0]\n",
        "      df[columna].fillna(moda, inplace=True)\n",
        "\n",
        "\n",
        "  ModaEstrato = df['ESTRATO'].mode()[0]  # Obtener la moda\n",
        "  df['ESTRATO'].fillna(ModaEstrato, inplace=True)\n",
        "\n",
        "  ModaPadre = df['EDUCACION_PADRE'].mode()[0]\n",
        "  df['EDUCACION_PADRE'].fillna(ModaPadre, inplace=True)\n",
        "\n",
        "  ModaMadre = df['EDUCACION_MADRE'].mode()[0]\n",
        "  df['EDUCACION_MADRE'].fillna(ModaMadre, inplace=True)\n",
        "\n",
        "  ValorMatricula = df['VALOR_MATRICULA'].mode()[0]\n",
        "  df['VALOR_MATRICULA'].fillna(ValorMatricula, inplace=True)\n",
        "\n",
        "  HorasTrabaja = df['HORAS_TRABAJA'].mode()[0]\n",
        "  df['HORAS_TRABAJA'].fillna(HorasTrabaja, inplace=True)\n",
        "\n",
        "  ##Convertir columnas categoricas\n",
        "  Columnas_categoricas = [\"VALOR_MATRICULA\",\"PROGRAMA\",\"DEPARTAMENTO\",\"EDUCACION_MADRE\",\"EDUCACION_PADRE\"]\n",
        "\n",
        "  df[Columnas_categoricas] = df[Columnas_categoricas].astype(\"category\")\n",
        "\n",
        "  valores_rendimiento = {'alto': 4,'medio-alto': 3,'medio-bajo':2, 'bajo': 1}\n",
        "  df= df.replace(valores_rendimiento)\n",
        "\n",
        "  ##Convertir a Onehot\n",
        "  encoder = OneHotEncoder(sparse=False)\n",
        "\n",
        "  encoded_columns = encoder.fit_transform(df[['HORAS_TRABAJA','PERIODO','VALOR_MATRICULA','PROGRAMA','DEPARTAMENTO','ESTRATO','EDUCACION_PADRE','EDUCACION_MADRE']])\n",
        "\n",
        "  feature_names = encoder.get_feature_names_out(['HORAS_TRABAJA','PERIODO', 'VALOR_MATRICULA','PROGRAMA','DEPARTAMENTO','ESTRATO','EDUCACION_PADRE','EDUCACION_MADRE'])\n",
        "\n",
        "  one_hot_encoded_df = pd.DataFrame(encoded_columns, columns=feature_names)\n",
        "\n",
        "  df = pd.concat([df, one_hot_encoded_df], axis=1)\n",
        "\n",
        "  df = df.drop(labels =['HORAS_TRABAJA', 'PERIODO','VALOR_MATRICULA','PROGRAMA','DEPARTAMENTO','ESTRATO','EDUCACION_PADRE','EDUCACION_MADRE'],axis= 1)\n",
        "\n",
        "  return df"
      ],
      "metadata": {
        "id": "xRzydXfeq3W5"
      },
      "execution_count": 5,
      "outputs": []
    },
    {
      "cell_type": "code",
      "source": [
        "df = Preprocesar(df)\n",
        "test_df = Preprocesar(test_df)"
      ],
      "metadata": {
        "colab": {
          "base_uri": "https://localhost:8080/"
        },
        "id": "N87dMTB0Urgs",
        "outputId": "85b7732b-1c83-470b-ab64-8e3a59b716ca"
      },
      "execution_count": 6,
      "outputs": [
        {
          "output_type": "stream",
          "name": "stderr",
          "text": [
            "/usr/local/lib/python3.10/dist-packages/sklearn/preprocessing/_encoders.py:868: FutureWarning: `sparse` was renamed to `sparse_output` in version 1.2 and will be removed in 1.4. `sparse_output` is ignored unless you leave `sparse` to its default value.\n",
            "  warnings.warn(\n",
            "/usr/local/lib/python3.10/dist-packages/sklearn/preprocessing/_encoders.py:868: FutureWarning: `sparse` was renamed to `sparse_output` in version 1.2 and will be removed in 1.4. `sparse_output` is ignored unless you leave `sparse` to its default value.\n",
            "  warnings.warn(\n"
          ]
        }
      ]
    },
    {
      "cell_type": "markdown",
      "source": [
        "## Preprocesado\n",
        "\n",
        "El preprocesado de todos los demas modelos se mantiene sin cambios a grandes rasgoz."
      ],
      "metadata": {
        "id": "DuPBIhCb_E9M"
      }
    },
    {
      "cell_type": "code",
      "source": [
        "\n",
        "X = df.drop(labels=[\"RENDIMIENTO_GLOBAL\", \"ID\"], axis=1)  # Características\n",
        "y = df[\"RENDIMIENTO_GLOBAL\"]  # Variable objetivo\n",
        "\n",
        "# Codificar las etiquetas de clase\n",
        "label_encoder = LabelEncoder()\n",
        "y = label_encoder.fit_transform(y)\n",
        "\n",
        "# Dividir los datos en conjunto de entrenamiento y conjunto de prueba\n",
        "X_train, X_test, y_train, y_test = train_test_split(X, y, test_size=0.2, random_state=42)\n",
        "\n",
        "# Número de clases en y\n",
        "num_classes = len(label_encoder.classes_)\n",
        "\n",
        "model = Sequential()\n",
        "model.add(Dense(128, input_dim=X_train.shape[1], activation='relu'))\n",
        "model.add(Dropout(0.5))\n",
        "model.add(Dense(64, activation='relu'))\n",
        "model.add(Dense(num_classes, activation='softmax'))  # Número de unidades igual a clases y softmax para clasificación multiclase\n",
        "\n",
        "# Compilar el modelo\n",
        "model.compile(loss='sparse_categorical_crossentropy', optimizer='adam', metrics=['accuracy'])\n",
        "\n",
        "# Entrenar el modelo\n",
        "model.fit(X_train, y_train, epochs=10, batch_size=32, validation_data=(X_test, y_test))\n",
        "\n",
        "# Evaluar el modelo\n",
        "loss, accuracy = model.evaluate(X_test, y_test)\n",
        "print(\"Accuracy:\", accuracy)\n"
      ],
      "metadata": {
        "id": "IzOpCdW36bze",
        "colab": {
          "base_uri": "https://localhost:8080/"
        },
        "outputId": "33014d6f-16ce-489e-f292-4907202286f5"
      },
      "execution_count": 7,
      "outputs": [
        {
          "output_type": "stream",
          "name": "stdout",
          "text": [
            "Epoch 1/10\n",
            "17313/17313 [==============================] - 74s 4ms/step - loss: 1.2380 - accuracy: 0.4102 - val_loss: 1.2168 - val_accuracy: 0.4252\n",
            "Epoch 2/10\n",
            "17313/17313 [==============================] - 64s 4ms/step - loss: 1.2249 - accuracy: 0.4192 - val_loss: 1.2132 - val_accuracy: 0.4261\n",
            "Epoch 3/10\n",
            "17313/17313 [==============================] - 59s 3ms/step - loss: 1.2215 - accuracy: 0.4220 - val_loss: 1.2128 - val_accuracy: 0.4281\n",
            "Epoch 4/10\n",
            "17313/17313 [==============================] - 57s 3ms/step - loss: 1.2192 - accuracy: 0.4233 - val_loss: 1.2138 - val_accuracy: 0.4276\n",
            "Epoch 5/10\n",
            "17313/17313 [==============================] - 63s 4ms/step - loss: 1.2186 - accuracy: 0.4235 - val_loss: 1.2113 - val_accuracy: 0.4284\n",
            "Epoch 6/10\n",
            "17313/17313 [==============================] - 54s 3ms/step - loss: 1.2170 - accuracy: 0.4245 - val_loss: 1.2116 - val_accuracy: 0.4293\n",
            "Epoch 7/10\n",
            "17313/17313 [==============================] - 59s 3ms/step - loss: 1.2162 - accuracy: 0.4251 - val_loss: 1.2106 - val_accuracy: 0.4295\n",
            "Epoch 8/10\n",
            "17313/17313 [==============================] - 54s 3ms/step - loss: 1.2156 - accuracy: 0.4256 - val_loss: 1.2128 - val_accuracy: 0.4288\n",
            "Epoch 9/10\n",
            "17313/17313 [==============================] - 60s 3ms/step - loss: 1.2148 - accuracy: 0.4256 - val_loss: 1.2107 - val_accuracy: 0.4300\n",
            "Epoch 10/10\n",
            "17313/17313 [==============================] - 58s 3ms/step - loss: 1.2141 - accuracy: 0.4263 - val_loss: 1.2126 - val_accuracy: 0.4284\n",
            "4329/4329 [==============================] - 7s 2ms/step - loss: 1.2126 - accuracy: 0.4284\n",
            "Accuracy: 0.4284187853336334\n"
          ]
        }
      ]
    },
    {
      "cell_type": "code",
      "source": [
        "predictions = model.predict(test_df.drop('ID', axis=1))\n",
        "\n",
        "predicted_classes = tf.argmax(predictions, axis=1) + 1  # Sumar 1 para ajustar el índice de las clases\n",
        "\n",
        "submit = pd.DataFrame({'ID': test_df['ID'], 'RENDIMIENTO_GLOBAL': predicted_classes})\n",
        "\n",
        "# Mapear las clases predichas al rango de etiquetas originales\n",
        "submit['RENDIMIENTO_GLOBAL'] = submit['RENDIMIENTO_GLOBAL'].replace({\n",
        "    1: 'bajo',\n",
        "    2: 'medio-bajo',\n",
        "    3: 'medio-alto',\n",
        "    4: 'alto'\n",
        "})\n",
        "\n",
        "submit.to_csv('submission.csv', index=False)\n",
        "\n"
      ],
      "metadata": {
        "id": "jfiUV9Z5A-0C",
        "colab": {
          "base_uri": "https://localhost:8080/"
        },
        "outputId": "c0899e99-bdce-4362-b147-bf34c6014a4c"
      },
      "execution_count": null,
      "outputs": [
        {
          "output_type": "stream",
          "name": "stdout",
          "text": [
            "9275/9275 [==============================] - 18s 2ms/step\n"
          ]
        }
      ]
    }
  ]
}